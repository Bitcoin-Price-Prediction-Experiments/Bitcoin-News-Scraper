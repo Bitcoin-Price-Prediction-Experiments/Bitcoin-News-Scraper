{
 "cells": [
  {
   "cell_type": "markdown",
   "id": "e0c6f980-7e60-479f-b7e6-0be5ebb368b8",
   "metadata": {},
   "source": [
    "# Extracting News Article Descriptions from Binance"
   ]
  },
  {
   "cell_type": "markdown",
   "id": "d04fcb54-a2fe-418b-bc64-75300aee0d0f",
   "metadata": {},
   "source": [
    "**\\[Last Updated: Sep 12, 2024]**\n",
    "\n",
    "Stay informed about the latest Bitcoin news on **Binance** by visiting this link: https://www.binance.com/en/square/news/bitcoin+news.\n",
    "\n",
    "Our objective is to extract and organize descriptions of Bitcoin-related news articles from [Binance](https://www.binance.com/en/square/news/bitcoin+news). Each article's publication date can be found within its URL. To achieve this, we will scrape both the article URLs and their descriptions. Using the dates embedded in the URLs, we will map each date to its corresponding article description, ensuring they remain in the correct order for accurate tracking.\n",
    "\n",
    "After obtaining the correct mapping between the article descriptions and their publication dates, we will generate a summary of each article using a [pre-trained transformer model](https://huggingface.co/Mr-Vicky-01/Bart-Finetuned-conversational-summarization) for conversational summarization. This model is designed to distill the key points of the articles, providing concise and informative summaries for easy reference."
   ]
  },
  {
   "cell_type": "code",
   "execution_count": 1,
   "id": "dc09c606-77b5-45fd-9de9-282843b6e0d2",
   "metadata": {},
   "outputs": [
    {
     "data": {
      "application/javascript": "if (!(\"Notification\" in window)) {\n    alert(\"This browser does not support desktop notifications, so the %%notify magic will not work.\");\n} else if (Notification.permission !== 'granted' && Notification.permission !== 'denied') {\n    Notification.requestPermission(function (permission) {\n        if(!('permission' in Notification)) {\n            Notification.permission = permission;\n        }\n    })\n}\n",
      "text/plain": [
       "<IPython.core.display.Javascript object>"
      ]
     },
     "metadata": {},
     "output_type": "display_data"
    }
   ],
   "source": [
    "%load_ext jupyternotify\n",
    "%config IPCompleter.greedy=True"
   ]
  },
  {
   "cell_type": "code",
   "execution_count": 2,
   "id": "a1b83f88",
   "metadata": {},
   "outputs": [],
   "source": [
    "import time\n",
    "import numpy as np\n",
    "from selenium import webdriver\n",
    "from chromedriver_py import binary_path\n",
    "from selenium.webdriver.chrome.options import Options\n",
    "from selenium.webdriver.common.by import By\n",
    "from selenium.webdriver.support import expected_conditions as EC"
   ]
  },
  {
   "cell_type": "markdown",
   "id": "e38b9718-f998-4f27-a587-73b5d7ed054b",
   "metadata": {},
   "source": [
    "## Part One: Extracting News Descriptions and Their Publication Dates\n",
    "In this section, we will use Selenium, a powerful web scraping tool, to extract news descriptions and their publication dates. Selenium allows us to automate web browsers, interact with web pages, and extract data efficiently, by simulating user interactions"
   ]
  },
  {
   "cell_type": "code",
   "execution_count": 3,
   "id": "9985709c",
   "metadata": {
    "scrolled": true
   },
   "outputs": [
    {
     "name": "stdout",
     "output_type": "stream",
     "text": [
      "Reached the end of the page.\n",
      "End of scrolling\n"
     ]
    }
   ],
   "source": [
    "options = Options()\n",
    "options.add_argument('--disable-dev-shm-usage')\n",
    "# options.add_argument(\"--headless\")\n",
    "svc = webdriver.ChromeService(executable_path=binary_path)\n",
    "driver = webdriver.Chrome(service=svc, options = options)\n",
    "\n",
    "driver.get(\"https://www.binance.com/en/square/news/bitcoin+news\")\n",
    "\n",
    "\n",
    "scroll_pause_time = 2  # Adjust as needed\n",
    "index_page = 0\n",
    "\n",
    "time.sleep(scroll_pause_time)\n",
    "previous_height = driver.execute_script('return document.body.scrollHeight')\n",
    "\n",
    "while index_page < 20: # Adjust as needed\n",
    "\n",
    "    driver.execute_script(\"window.scrollTo(0, document.body.scrollHeight);\")\n",
    "\n",
    "    time.sleep(scroll_pause_time)\n",
    "    new_height = driver.execute_script(\"return document.body.scrollHeight\")\n",
    "\n",
    "    index_page += 1\n",
    "    \n",
    "    if new_height == previous_height:\n",
    "        print(\"Reached the end of the page.\")\n",
    "        break\n",
    "\n",
    "    previous_height = new_height\n",
    "\n",
    "print(\"End of scrolling\")"
   ]
  },
  {
   "cell_type": "code",
   "execution_count": null,
   "id": "c6df8d7d-47d4-4a7d-bfb7-d455e92edf70",
   "metadata": {
    "scrolled": true
   },
   "outputs": [],
   "source": [
    "from selenium.common.exceptions import NoSuchElementException\n",
    "\n",
    "elements = driver.find_elements(By.XPATH, \"//div[@class='css-vurnku']//a\")\n",
    "urls = np.array([])\n",
    "descriptions = np.array([])\n",
    "\n",
    "for element in elements:\n",
    "    try:\n",
    "        url = element.get_attribute('href')\n",
    "        urls = np.append(urls, url)\n",
    "    except NoSuchElementException:\n",
    "        print(\"Unable to find URL for element\")\n",
    "\n",
    "    try:\n",
    "        description_element = element.find_element(By.XPATH, \".//div[@class='css-10lrpzu']\")\n",
    "        description = description_element.text\n",
    "        descriptions = np.append(descriptions, description)\n",
    "    except NoSuchElementException:\n",
    "        print(\"Unable to find description for element\")"
   ]
  },
  {
   "cell_type": "code",
   "execution_count": 5,
   "id": "30703b60-a2bf-4e16-82da-978170896b75",
   "metadata": {},
   "outputs": [
    {
     "name": "stdout",
     "output_type": "stream",
     "text": [
      "(520,) (269,)\n"
     ]
    }
   ],
   "source": [
    "print(urls.shape, descriptions.shape)"
   ]
  },
  {
   "cell_type": "markdown",
   "id": "1b58218f-5bac-440a-884a-a22d8686f8a0",
   "metadata": {},
   "source": [
    "### Removing unecessary URLs"
   ]
  },
  {
   "cell_type": "code",
   "execution_count": 6,
   "id": "656b92f1-ac22-4fd5-b289-75d2189bd173",
   "metadata": {},
   "outputs": [
    {
     "name": "stdout",
     "output_type": "stream",
     "text": [
      "(269,)\n"
     ]
    }
   ],
   "source": [
    "urls = np.array([url for url in urls if url.startswith(\"https://www.binance.com/en/square/post\")])\n",
    "print(urls.shape)"
   ]
  },
  {
   "cell_type": "code",
   "execution_count": 7,
   "id": "1c11bfc5-4643-4536-bcb2-d9bd2e3d340f",
   "metadata": {
    "scrolled": true
   },
   "outputs": [
    {
     "name": "stdout",
     "output_type": "stream",
     "text": [
      "https://www.binance.com/en/square/post/2024-09-12-el-salvador-s-bitcoin-adoption-seen-as-pr-move-13456394650178\n",
      "According to Cointelegraph, the TIME Magazine reporter who conducted one of the first foreign correspondent interviews with El Salvador President Nayib Bukele in three years has suggested that his push for Bitcoin as legal tender was more about image than substance. In an interview with Crooked Media’s Pod Save the World released on Sept. 11, Vera Bergengruen reported that Bukele’s advisers referred to Bitcoin (BTC) adoption in El Salvador as a “great rebranding” and “complete PR [public relations] move.” Bukele briefly led his family’s PR firm before moving into politics, becoming the Mayor of Nuevo Cuscatlán, Mayor of San Salvador, and president of El Salvador. “I think the most important thing [...] is his past as a publicist,” said Bergengruen, referring to Bukele. “It’s important to understand from Bitcoin to the war on the gangs, everything he does he’s kind of image first, results later oriented.” She added that Bitcoin was never really meant to be adopted to significantly change Salvadorans’ economic situation. Many in the crypto industry began paying attention to El Salvador and Bukele starting in 2021 after the president announced plans to recognize BTC as a legal tender. According to Bergengruen, the announcement was the first for the industry and the public in El Salvador, resulting in Bukele’s team having to “backtrack” and promote potential benefits of Bitcoin, like foreign remittances. “It was chaos from the start, but they needed to kind of at least pretend that it was really going to help El Salvador,” said Bergengruen. “It was very obvious that it was kind of for tourists, for foreigners, for [Bukele] to have something to talk about that changes the narrative. If that was the goal, they have been successful.” Bukele initially pushed for creating a volcano-powered “Bitcoin City” in the country, but the program was not completed more than three years later. He regularly posts on social media about using El Salvador’s funds to purchase BTC. According to Bergengruen’s interview, the president reported having roughly $400 million in the country’s “public wallet alone.” Bukele will serve as El Salvador’s president in his current term until 2029.\n",
      "https://www.binance.com/en/square/post/2024-08-31-starbucks-in-el-salvador-now-accepts-bitcoin-payments-12888689341962\n",
      "According to Odaily, Starbucks stores in El Salvador have started accepting Bitcoin as a payment method. This development was highlighted in a video posted by Bitcoin Magazine on the X platform. The move aligns with El Salvador's ongoing efforts to integrate Bitcoin into its economy, following the country's adoption of the cryptocurrency as legal tender.\n"
     ]
    }
   ],
   "source": [
    "for index in range(urls.shape[0]):\n",
    "    if index % 200 == 0:\n",
    "        print(urls[index])\n",
    "        print(descriptions[index])"
   ]
  },
  {
   "cell_type": "markdown",
   "id": "ee6ce2ef-3db0-415e-b9fb-571e1946db80",
   "metadata": {},
   "source": [
    "### As shown above, the URLs are correctly aligned with their respective descriptions."
   ]
  },
  {
   "cell_type": "code",
   "execution_count": 8,
   "id": "57fa3bdb-8cd7-4a1d-8f67-cf80ab10d542",
   "metadata": {},
   "outputs": [],
   "source": [
    "def extract_title_and_date_from_url(url):\n",
    "    parts = url.split(\"/\")\n",
    "    \n",
    "    title_part = parts[-1]\n",
    "    \n",
    "    title_with_date = ' '.join(title_part.split('-')).title()\n",
    "    \n",
    "    date = ' '.join(title_with_date.split()[:3])\n",
    "    \n",
    "    title_words = title_with_date.split()\n",
    "    if title_words and title_words[-1].isdigit():\n",
    "        title = ' '.join(title_words[:-1])\n",
    "    else:\n",
    "        title = title_with_date\n",
    "    \n",
    "    title = ' '.join(title.split()[3:])\n",
    "    \n",
    "    return title.strip(), date"
   ]
  },
  {
   "cell_type": "code",
   "execution_count": null,
   "id": "e6d37932-f66e-4de1-aa9f-9e736b72e07f",
   "metadata": {
    "scrolled": true
   },
   "outputs": [],
   "source": [
    "dates = np.array([])\n",
    "\n",
    "for url in urls:\n",
    "    title, date = extract_title_and_date_from_url(url)\n",
    "    dates = np.append(dates, date)\n",
    "\n",
    "## Uncomment the lines below to view the dates\n",
    "# print(\"Extracted Date:\")\n",
    "# print(dates)"
   ]
  },
  {
   "cell_type": "markdown",
   "id": "acb819a2-ba97-44e2-bdd6-27b9a236c95d",
   "metadata": {},
   "source": [
    "## Part Two: Summarizing the Descriptions"
   ]
  },
  {
   "cell_type": "code",
   "execution_count": 11,
   "id": "4431434f-fa75-459c-92c4-cc9ec29bdb0e",
   "metadata": {},
   "outputs": [],
   "source": [
    "from transformers import AutoTokenizer, AutoModelForSeq2SeqLM\n",
    "\n",
    "tokenizer = AutoTokenizer.from_pretrained(\"Mr-Vicky-01/Bart-Finetuned-conversational-summarization\")\n",
    "model = AutoModelForSeq2SeqLM.from_pretrained(\"Mr-Vicky-01/Bart-Finetuned-conversational-summarization\")"
   ]
  },
  {
   "cell_type": "code",
   "execution_count": null,
   "id": "aed06bc2-6edb-4755-8118-984a4ce9cad6",
   "metadata": {
    "scrolled": true
   },
   "outputs": [],
   "source": [
    "def generate_summary(text):\n",
    "    inputs = tokenizer([text], max_length=1024, return_tensors='pt', truncation=True)\n",
    "    summary_ids = model.generate(inputs['input_ids'], max_new_tokens=80, do_sample=False)\n",
    "    summary = tokenizer.decode(summary_ids[0], skip_special_tokens=True)\n",
    "    return summary\n",
    "\n",
    "short_descriptions = np.array([])\n",
    "\n",
    "for i, description in enumerate(descriptions):\n",
    "    short_description = generate_summary(description)\n",
    "    ## Uncomment the line below to track the progress of summarized descriptions\n",
    "    # print(f'Description N°{i+1}')\n",
    "    short_descriptions = np.append(short_descriptions, short_description)"
   ]
  },
  {
   "cell_type": "code",
   "execution_count": 19,
   "id": "b4e106ca-bf30-4b0a-a2fe-9d194b4370d3",
   "metadata": {},
   "outputs": [
    {
     "name": "stdout",
     "output_type": "stream",
     "text": [
      "(269,)\n"
     ]
    }
   ],
   "source": [
    "print(short_descriptions.shape)"
   ]
  },
  {
   "cell_type": "code",
   "execution_count": 14,
   "id": "2673052b-c657-432c-ba51-e8588040ec43",
   "metadata": {
    "scrolled": true
   },
   "outputs": [],
   "source": [
    "import pandas as pd\n",
    "\n",
    "df = pd.DataFrame({\n",
    "    'Date': dates,\n",
    "    'Description' : descriptions,\n",
    "    'Short Description' : short_descriptions \n",
    "})\n",
    "\n",
    "df.set_index('Date', inplace=True)\n",
    "df = df.sort_index(ascending=False)\n",
    "df.index = pd.to_datetime(df.index)"
   ]
  },
  {
   "cell_type": "code",
   "execution_count": 15,
   "id": "5844d99f-44aa-4304-ba01-fc715b4dff21",
   "metadata": {},
   "outputs": [
    {
     "data": {
      "text/html": [
       "<div>\n",
       "<style scoped>\n",
       "    .dataframe tbody tr th:only-of-type {\n",
       "        vertical-align: middle;\n",
       "    }\n",
       "\n",
       "    .dataframe tbody tr th {\n",
       "        vertical-align: top;\n",
       "    }\n",
       "\n",
       "    .dataframe thead th {\n",
       "        text-align: right;\n",
       "    }\n",
       "</style>\n",
       "<table border=\"1\" class=\"dataframe\">\n",
       "  <thead>\n",
       "    <tr style=\"text-align: right;\">\n",
       "      <th></th>\n",
       "      <th>Description</th>\n",
       "      <th>Short Description</th>\n",
       "    </tr>\n",
       "    <tr>\n",
       "      <th>Date</th>\n",
       "      <th></th>\n",
       "      <th></th>\n",
       "    </tr>\n",
       "  </thead>\n",
       "  <tbody>\n",
       "    <tr>\n",
       "      <th>2024-09-12</th>\n",
       "      <td>According to Cointelegraph, the TIME Magazine ...</td>\n",
       "      <td>Time Magazine reporter Vera Bergengruen believ...</td>\n",
       "    </tr>\n",
       "    <tr>\n",
       "      <th>2024-09-12</th>\n",
       "      <td>On Sep 12, 2024, 18:53 PM(UTC). According to B...</td>\n",
       "      <td>Bitcoin has dropped below 58,000 USDT and is n...</td>\n",
       "    </tr>\n",
       "    <tr>\n",
       "      <th>2024-09-12</th>\n",
       "      <td>According to Odaily, data from mempool.space i...</td>\n",
       "      <td>According to data from mempool.space, transact...</td>\n",
       "    </tr>\n",
       "    <tr>\n",
       "      <th>2024-09-12</th>\n",
       "      <td>According to BlockBeats, on September 12, Arkh...</td>\n",
       "      <td>Grayscale addresses transferred 763.785 BTC wo...</td>\n",
       "    </tr>\n",
       "    <tr>\n",
       "      <th>2024-09-12</th>\n",
       "      <td>According to BlockBeats, on September 12, QCP ...</td>\n",
       "      <td>The recently announced U.S. Consumer Price Ind...</td>\n",
       "    </tr>\n",
       "    <tr>\n",
       "      <th>...</th>\n",
       "      <td>...</td>\n",
       "      <td>...</td>\n",
       "    </tr>\n",
       "    <tr>\n",
       "      <th>2024-08-28</th>\n",
       "      <td>According to Odaily, the Bitcoin spot ETF in t...</td>\n",
       "      <td>The Bitcoin spot ETF in the United States expe...</td>\n",
       "    </tr>\n",
       "    <tr>\n",
       "      <th>2024-08-28</th>\n",
       "      <td>According to Odaily, monitoring by Trader T re...</td>\n",
       "      <td>BlackRock's IBIT experienced no fund inflows o...</td>\n",
       "    </tr>\n",
       "    <tr>\n",
       "      <th>2024-08-28</th>\n",
       "      <td>According to BlockBeats, on August 28, Osprey ...</td>\n",
       "      <td>The sponsor of Osprey Bitcoin Trust has reache...</td>\n",
       "    </tr>\n",
       "    <tr>\n",
       "      <th>2024-08-28</th>\n",
       "      <td>According to BlockBeats, on August 28, Bitcoin...</td>\n",
       "      <td>Marathon Digital sold $300 million in converti...</td>\n",
       "    </tr>\n",
       "    <tr>\n",
       "      <th>2024-08-27</th>\n",
       "      <td>On Aug 27, 2024, 22:15 PM(UTC). According to B...</td>\n",
       "      <td>Bitcoin has dropped below 59,000 USDT and is n...</td>\n",
       "    </tr>\n",
       "  </tbody>\n",
       "</table>\n",
       "<p>269 rows × 2 columns</p>\n",
       "</div>"
      ],
      "text/plain": [
       "                                                  Description  \\\n",
       "Date                                                            \n",
       "2024-09-12  According to Cointelegraph, the TIME Magazine ...   \n",
       "2024-09-12  On Sep 12, 2024, 18:53 PM(UTC). According to B...   \n",
       "2024-09-12  According to Odaily, data from mempool.space i...   \n",
       "2024-09-12  According to BlockBeats, on September 12, Arkh...   \n",
       "2024-09-12  According to BlockBeats, on September 12, QCP ...   \n",
       "...                                                       ...   \n",
       "2024-08-28  According to Odaily, the Bitcoin spot ETF in t...   \n",
       "2024-08-28  According to Odaily, monitoring by Trader T re...   \n",
       "2024-08-28  According to BlockBeats, on August 28, Osprey ...   \n",
       "2024-08-28  According to BlockBeats, on August 28, Bitcoin...   \n",
       "2024-08-27  On Aug 27, 2024, 22:15 PM(UTC). According to B...   \n",
       "\n",
       "                                            Short Description  \n",
       "Date                                                           \n",
       "2024-09-12  Time Magazine reporter Vera Bergengruen believ...  \n",
       "2024-09-12  Bitcoin has dropped below 58,000 USDT and is n...  \n",
       "2024-09-12  According to data from mempool.space, transact...  \n",
       "2024-09-12  Grayscale addresses transferred 763.785 BTC wo...  \n",
       "2024-09-12  The recently announced U.S. Consumer Price Ind...  \n",
       "...                                                       ...  \n",
       "2024-08-28  The Bitcoin spot ETF in the United States expe...  \n",
       "2024-08-28  BlackRock's IBIT experienced no fund inflows o...  \n",
       "2024-08-28  The sponsor of Osprey Bitcoin Trust has reache...  \n",
       "2024-08-28  Marathon Digital sold $300 million in converti...  \n",
       "2024-08-27  Bitcoin has dropped below 59,000 USDT and is n...  \n",
       "\n",
       "[269 rows x 2 columns]"
      ]
     },
     "execution_count": 15,
     "metadata": {},
     "output_type": "execute_result"
    }
   ],
   "source": [
    "df"
   ]
  },
  {
   "cell_type": "code",
   "execution_count": 16,
   "id": "23ffc4c0-c105-48ae-a5d3-68f24fdb5f90",
   "metadata": {},
   "outputs": [],
   "source": [
    "df.to_csv(\"../data/binance_bitcoin_news.csv\")"
   ]
  },
  {
   "cell_type": "code",
   "execution_count": 17,
   "id": "3ae10ee4-de70-4738-8fc7-24b3cdcf3a46",
   "metadata": {},
   "outputs": [],
   "source": [
    "driver.quit()"
   ]
  }
 ],
 "metadata": {
  "kernelspec": {
   "display_name": "Python 3 (ipykernel)",
   "language": "python",
   "name": "python3"
  },
  "language_info": {
   "codemirror_mode": {
    "name": "ipython",
    "version": 3
   },
   "file_extension": ".py",
   "mimetype": "text/x-python",
   "name": "python",
   "nbconvert_exporter": "python",
   "pygments_lexer": "ipython3",
   "version": "3.10.12"
  }
 },
 "nbformat": 4,
 "nbformat_minor": 5
}
